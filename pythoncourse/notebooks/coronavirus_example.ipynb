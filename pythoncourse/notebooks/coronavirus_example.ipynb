{
 "cells": [
  {
   "cell_type": "markdown",
   "metadata": {},
   "source": [
    "# Using Python to analyse data on the coronavirus\n",
    "\n",
    "Saeed Amen - https://www.cuemacro.com - saeed@cuemacro.com"
   ]
  },
  {
   "cell_type": "markdown",
   "metadata": {},
   "source": [
    "First of all I want to stress that I am not a medic. However, I am a quant, and as such I wanted to see if there are simple ways I could look at the data related to the coronavirus. In particular, I'm doing some very simple plots and analysis, but I hope you find this code useful in any case (and feel free to copy and reuse). Our data source is one compiled by John Hopkins, which they've made available on GitHub at https://github.com/CSSEGISandData/COVID-19 and is being updated daily. This dataset drives a lot of analysis that has been published on the coronavirus. "
   ]
  },
  {
   "cell_type": "markdown",
   "metadata": {},
   "source": [
    "I've tried to stick to libraries which are relatively common like Pandas and like part of the standard Anaconda installation. If you want to use these notebooks in an easy to use way, I would recommend loading them on Azure Notebooks (http://notebooks.azure.com) which has a free version), and you can rerun as new data is released. If you want to setup your Python environment similar to mine follow the instructions at https://github.com/cuemacro/teaching/blob/master/pythoncourse/installation/installing_anaconda_and_pycharm.ipynb - this will pretty much install all the libraries you'll ever need for data science. I've also made a public Azure notebook version of this project at https://notebooks.azure.com/saeedamen/projects/coronavirus."
   ]
  },
  {
   "cell_type": "markdown",
   "metadata": {},
   "source": [
    "## Loading the data\n",
    "\n",
    "We shall be looking at several CSV from the GitHub site which have time series number of confirmed cases, deaths and recovery cases related to COVID-19, and these are updated on a regular basis. Note, we are getting the raw content from these GitHub pages."
   ]
  },
  {
   "cell_type": "code",
   "execution_count": 1,
   "metadata": {
    "ExecuteTime": {
     "end_time": "2020-06-24T13:00:58.324101Z",
     "start_time": "2020-06-24T13:00:58.311101Z"
    }
   },
   "outputs": [],
   "source": [
    "# Recently changed path\n",
    "confirmed_path = 'https://raw.githubusercontent.com/CSSEGISandData/COVID-19/master/csse_covid_19_data/csse_covid_19_time_series/time_series_covid19_confirmed_global.csv'\n",
    "deaths_path = 'https://raw.githubusercontent.com/CSSEGISandData/COVID-19/master/csse_covid_19_data/csse_covid_19_time_series/time_series_covid19_deaths_global.csv'\n",
    "\n",
    "# Note the recovered dataset is no longer being recovered\n",
    "recovered_path = 'https://raw.githubusercontent.com/CSSEGISandData/COVID-19/master/csse_covid_19_data/csse_covid_19_time_series/time_series_19-covid-Recovered.csv'"
   ]
  },
  {
   "cell_type": "markdown",
   "metadata": {},
   "source": [
    "We'll also want to download some population data too from OECD, which has this path."
   ]
  },
  {
   "cell_type": "code",
   "execution_count": 2,
   "metadata": {
    "ExecuteTime": {
     "end_time": "2020-06-24T13:00:58.339101Z",
     "start_time": "2020-06-24T13:00:58.326102Z"
    }
   },
   "outputs": [],
   "source": [
    "oecd_path = \"https://stats.oecd.org/sdmx-json/data/DP_LIVE/.POP.../OECD?contentType=csv&detail=code&separator=comma&csv-lang=en\""
   ]
  },
  {
   "cell_type": "markdown",
   "metadata": {},
   "source": [
    "Let's do some imports of libraries and creation of objects we'll need to use later."
   ]
  },
  {
   "cell_type": "code",
   "execution_count": 3,
   "metadata": {
    "ExecuteTime": {
     "end_time": "2020-06-24T13:01:01.729289Z",
     "start_time": "2020-06-24T13:00:58.341102Z"
    }
   },
   "outputs": [],
   "source": [
    "import pandas as pd\n",
    "\n",
    "%matplotlib inline"
   ]
  },
  {
   "cell_type": "markdown",
   "metadata": {},
   "source": [
    "Let's check my version of pandas. Mine is 0.24.2, but this notebook will likely work with other versions too."
   ]
  },
  {
   "cell_type": "code",
   "execution_count": 4,
   "metadata": {
    "ExecuteTime": {
     "end_time": "2020-06-24T13:01:01.744108Z",
     "start_time": "2020-06-24T13:01:01.731110Z"
    }
   },
   "outputs": [
    {
     "data": {
      "text/plain": [
       "'0.24.2'"
      ]
     },
     "execution_count": 4,
     "metadata": {},
     "output_type": "execute_result"
    }
   ],
   "source": [
    "pd.__version__"
   ]
  },
  {
   "cell_type": "markdown",
   "metadata": {},
   "source": [
    "Let's load up all the datasets"
   ]
  },
  {
   "cell_type": "code",
   "execution_count": 5,
   "metadata": {
    "ExecuteTime": {
     "end_time": "2020-06-24T13:01:02.525202Z",
     "start_time": "2020-06-24T13:01:01.746114Z"
    }
   },
   "outputs": [],
   "source": [
    "df_confirmed = pd.read_csv(confirmed_path)\n",
    "df_deaths = pd.read_csv(deaths_path)\n",
    "# df_recovered = pd.read_csv(recovered_path) # Note: recovered dataset is not updated, so omitting"
   ]
  },
  {
   "cell_type": "markdown",
   "metadata": {},
   "source": [
    "Check the format up of the downloaded data for the confirmed case."
   ]
  },
  {
   "cell_type": "code",
   "execution_count": 6,
   "metadata": {
    "ExecuteTime": {
     "end_time": "2020-06-24T13:01:02.555202Z",
     "start_time": "2020-06-24T13:01:02.527202Z"
    }
   },
   "outputs": [
    {
     "data": {
      "text/html": [
       "<div>\n",
       "<style scoped>\n",
       "    .dataframe tbody tr th:only-of-type {\n",
       "        vertical-align: middle;\n",
       "    }\n",
       "\n",
       "    .dataframe tbody tr th {\n",
       "        vertical-align: top;\n",
       "    }\n",
       "\n",
       "    .dataframe thead th {\n",
       "        text-align: right;\n",
       "    }\n",
       "</style>\n",
       "<table border=\"1\" class=\"dataframe\">\n",
       "  <thead>\n",
       "    <tr style=\"text-align: right;\">\n",
       "      <th></th>\n",
       "      <th>Province/State</th>\n",
       "      <th>Country/Region</th>\n",
       "      <th>Lat</th>\n",
       "      <th>Long</th>\n",
       "      <th>1/22/20</th>\n",
       "      <th>1/23/20</th>\n",
       "      <th>1/24/20</th>\n",
       "      <th>1/25/20</th>\n",
       "      <th>1/26/20</th>\n",
       "      <th>1/27/20</th>\n",
       "      <th>...</th>\n",
       "      <th>6/14/20</th>\n",
       "      <th>6/15/20</th>\n",
       "      <th>6/16/20</th>\n",
       "      <th>6/17/20</th>\n",
       "      <th>6/18/20</th>\n",
       "      <th>6/19/20</th>\n",
       "      <th>6/20/20</th>\n",
       "      <th>6/21/20</th>\n",
       "      <th>6/22/20</th>\n",
       "      <th>6/23/20</th>\n",
       "    </tr>\n",
       "  </thead>\n",
       "  <tbody>\n",
       "    <tr>\n",
       "      <th>0</th>\n",
       "      <td>NaN</td>\n",
       "      <td>Afghanistan</td>\n",
       "      <td>33.0000</td>\n",
       "      <td>65.0000</td>\n",
       "      <td>0</td>\n",
       "      <td>0</td>\n",
       "      <td>0</td>\n",
       "      <td>0</td>\n",
       "      <td>0</td>\n",
       "      <td>0</td>\n",
       "      <td>...</td>\n",
       "      <td>24766</td>\n",
       "      <td>25527</td>\n",
       "      <td>26310</td>\n",
       "      <td>26874</td>\n",
       "      <td>27532</td>\n",
       "      <td>27878</td>\n",
       "      <td>28424</td>\n",
       "      <td>28833</td>\n",
       "      <td>29157</td>\n",
       "      <td>29481</td>\n",
       "    </tr>\n",
       "    <tr>\n",
       "      <th>1</th>\n",
       "      <td>NaN</td>\n",
       "      <td>Albania</td>\n",
       "      <td>41.1533</td>\n",
       "      <td>20.1683</td>\n",
       "      <td>0</td>\n",
       "      <td>0</td>\n",
       "      <td>0</td>\n",
       "      <td>0</td>\n",
       "      <td>0</td>\n",
       "      <td>0</td>\n",
       "      <td>...</td>\n",
       "      <td>1521</td>\n",
       "      <td>1590</td>\n",
       "      <td>1672</td>\n",
       "      <td>1722</td>\n",
       "      <td>1788</td>\n",
       "      <td>1838</td>\n",
       "      <td>1891</td>\n",
       "      <td>1962</td>\n",
       "      <td>1995</td>\n",
       "      <td>2047</td>\n",
       "    </tr>\n",
       "    <tr>\n",
       "      <th>2</th>\n",
       "      <td>NaN</td>\n",
       "      <td>Algeria</td>\n",
       "      <td>28.0339</td>\n",
       "      <td>1.6596</td>\n",
       "      <td>0</td>\n",
       "      <td>0</td>\n",
       "      <td>0</td>\n",
       "      <td>0</td>\n",
       "      <td>0</td>\n",
       "      <td>0</td>\n",
       "      <td>...</td>\n",
       "      <td>10919</td>\n",
       "      <td>11031</td>\n",
       "      <td>11147</td>\n",
       "      <td>11268</td>\n",
       "      <td>11385</td>\n",
       "      <td>11504</td>\n",
       "      <td>11631</td>\n",
       "      <td>11771</td>\n",
       "      <td>11920</td>\n",
       "      <td>12076</td>\n",
       "    </tr>\n",
       "    <tr>\n",
       "      <th>3</th>\n",
       "      <td>NaN</td>\n",
       "      <td>Andorra</td>\n",
       "      <td>42.5063</td>\n",
       "      <td>1.5218</td>\n",
       "      <td>0</td>\n",
       "      <td>0</td>\n",
       "      <td>0</td>\n",
       "      <td>0</td>\n",
       "      <td>0</td>\n",
       "      <td>0</td>\n",
       "      <td>...</td>\n",
       "      <td>853</td>\n",
       "      <td>853</td>\n",
       "      <td>854</td>\n",
       "      <td>854</td>\n",
       "      <td>855</td>\n",
       "      <td>855</td>\n",
       "      <td>855</td>\n",
       "      <td>855</td>\n",
       "      <td>855</td>\n",
       "      <td>855</td>\n",
       "    </tr>\n",
       "    <tr>\n",
       "      <th>4</th>\n",
       "      <td>NaN</td>\n",
       "      <td>Angola</td>\n",
       "      <td>-11.2027</td>\n",
       "      <td>17.8739</td>\n",
       "      <td>0</td>\n",
       "      <td>0</td>\n",
       "      <td>0</td>\n",
       "      <td>0</td>\n",
       "      <td>0</td>\n",
       "      <td>0</td>\n",
       "      <td>...</td>\n",
       "      <td>140</td>\n",
       "      <td>142</td>\n",
       "      <td>148</td>\n",
       "      <td>155</td>\n",
       "      <td>166</td>\n",
       "      <td>172</td>\n",
       "      <td>176</td>\n",
       "      <td>183</td>\n",
       "      <td>186</td>\n",
       "      <td>189</td>\n",
       "    </tr>\n",
       "  </tbody>\n",
       "</table>\n",
       "<p>5 rows × 158 columns</p>\n",
       "</div>"
      ],
      "text/plain": [
       "  Province/State Country/Region      Lat     Long  1/22/20  1/23/20  1/24/20  \\\n",
       "0            NaN    Afghanistan  33.0000  65.0000        0        0        0   \n",
       "1            NaN        Albania  41.1533  20.1683        0        0        0   \n",
       "2            NaN        Algeria  28.0339   1.6596        0        0        0   \n",
       "3            NaN        Andorra  42.5063   1.5218        0        0        0   \n",
       "4            NaN         Angola -11.2027  17.8739        0        0        0   \n",
       "\n",
       "   1/25/20  1/26/20  1/27/20  ...  6/14/20  6/15/20  6/16/20  6/17/20  \\\n",
       "0        0        0        0  ...    24766    25527    26310    26874   \n",
       "1        0        0        0  ...     1521     1590     1672     1722   \n",
       "2        0        0        0  ...    10919    11031    11147    11268   \n",
       "3        0        0        0  ...      853      853      854      854   \n",
       "4        0        0        0  ...      140      142      148      155   \n",
       "\n",
       "   6/18/20  6/19/20  6/20/20  6/21/20  6/22/20  6/23/20  \n",
       "0    27532    27878    28424    28833    29157    29481  \n",
       "1     1788     1838     1891     1962     1995     2047  \n",
       "2    11385    11504    11631    11771    11920    12076  \n",
       "3      855      855      855      855      855      855  \n",
       "4      166      172      176      183      186      189  \n",
       "\n",
       "[5 rows x 158 columns]"
      ]
     },
     "execution_count": 6,
     "metadata": {},
     "output_type": "execute_result"
    }
   ],
   "source": [
    "df_confirmed.head(5)"
   ]
  },
  {
   "cell_type": "markdown",
   "metadata": {},
   "source": [
    "We'll write a function to make the data easier to work with, transposing the dataset and making the date the index of our dataframe. We also add labels to the columns."
   ]
  },
  {
   "cell_type": "code",
   "execution_count": 7,
   "metadata": {
    "ExecuteTime": {
     "end_time": "2020-06-24T13:01:02.570202Z",
     "start_time": "2020-06-24T13:01:02.556203Z"
    }
   },
   "outputs": [],
   "source": [
    "def aggregate_format_dataframe(df, label):\n",
    "    # Replace some country labels to make them consistent for use later\n",
    "    df['Country/Region'] = df['Country/Region'].replace('US', 'United States')\n",
    "    df['Country/Region'] = df['Country/Region'].replace('Taiwan*', 'Taiwan')\n",
    "    \n",
    "    # Aggregate the figures by Country\n",
    "    df = df.groupby(['Country/Region']).sum()\n",
    "    \n",
    "    df = df.transpose()\n",
    "    \n",
    "    # Strip first two lines (which has Lat/Long data)\n",
    "    df = df[2:] \n",
    "    \n",
    "    \n",
    "    df.index = pd.to_datetime(df.index)\n",
    "    df.index.name = 'Date'\n",
    "    original_columns = df.columns\n",
    "    df.columns = [x + ' ' + label for x in df.columns]\n",
    "    \n",
    "    return df, original_columns"
   ]
  },
  {
   "cell_type": "markdown",
   "metadata": {},
   "source": [
    "Let's run that function on our datasets."
   ]
  },
  {
   "cell_type": "code",
   "execution_count": 8,
   "metadata": {
    "ExecuteTime": {
     "end_time": "2020-06-24T13:01:02.615201Z",
     "start_time": "2020-06-24T13:01:02.572202Z"
    }
   },
   "outputs": [],
   "source": [
    "df_confirmed_agg, confirmed_countries = aggregate_format_dataframe(df_confirmed, 'confirmed')\n",
    "df_deaths_agg, deaths_countries = aggregate_format_dataframe(df_deaths, 'deaths')\n",
    "\n",
    "# Note: recovered dataset is not updated so omitting\n",
    "# df_recovered_agg, recovered_countries = aggregate_format_dataframe(df_recovered, 'recovered') \n",
    "\n",
    "countries = confirmed_countries"
   ]
  },
  {
   "cell_type": "markdown",
   "metadata": {},
   "source": [
    "We can now see that dataset is in an easier to use format."
   ]
  },
  {
   "cell_type": "code",
   "execution_count": 9,
   "metadata": {
    "ExecuteTime": {
     "end_time": "2020-06-24T13:01:02.645201Z",
     "start_time": "2020-06-24T13:01:02.617202Z"
    }
   },
   "outputs": [
    {
     "data": {
      "text/html": [
       "<div>\n",
       "<style scoped>\n",
       "    .dataframe tbody tr th:only-of-type {\n",
       "        vertical-align: middle;\n",
       "    }\n",
       "\n",
       "    .dataframe tbody tr th {\n",
       "        vertical-align: top;\n",
       "    }\n",
       "\n",
       "    .dataframe thead th {\n",
       "        text-align: right;\n",
       "    }\n",
       "</style>\n",
       "<table border=\"1\" class=\"dataframe\">\n",
       "  <thead>\n",
       "    <tr style=\"text-align: right;\">\n",
       "      <th></th>\n",
       "      <th>Afghanistan confirmed</th>\n",
       "      <th>Albania confirmed</th>\n",
       "      <th>Algeria confirmed</th>\n",
       "      <th>Andorra confirmed</th>\n",
       "      <th>Angola confirmed</th>\n",
       "      <th>Antigua and Barbuda confirmed</th>\n",
       "      <th>Argentina confirmed</th>\n",
       "      <th>Armenia confirmed</th>\n",
       "      <th>Australia confirmed</th>\n",
       "      <th>Austria confirmed</th>\n",
       "      <th>...</th>\n",
       "      <th>United States confirmed</th>\n",
       "      <th>Uruguay confirmed</th>\n",
       "      <th>Uzbekistan confirmed</th>\n",
       "      <th>Venezuela confirmed</th>\n",
       "      <th>Vietnam confirmed</th>\n",
       "      <th>West Bank and Gaza confirmed</th>\n",
       "      <th>Western Sahara confirmed</th>\n",
       "      <th>Yemen confirmed</th>\n",
       "      <th>Zambia confirmed</th>\n",
       "      <th>Zimbabwe confirmed</th>\n",
       "    </tr>\n",
       "    <tr>\n",
       "      <th>Date</th>\n",
       "      <th></th>\n",
       "      <th></th>\n",
       "      <th></th>\n",
       "      <th></th>\n",
       "      <th></th>\n",
       "      <th></th>\n",
       "      <th></th>\n",
       "      <th></th>\n",
       "      <th></th>\n",
       "      <th></th>\n",
       "      <th></th>\n",
       "      <th></th>\n",
       "      <th></th>\n",
       "      <th></th>\n",
       "      <th></th>\n",
       "      <th></th>\n",
       "      <th></th>\n",
       "      <th></th>\n",
       "      <th></th>\n",
       "      <th></th>\n",
       "      <th></th>\n",
       "    </tr>\n",
       "  </thead>\n",
       "  <tbody>\n",
       "    <tr>\n",
       "      <th>2020-06-19</th>\n",
       "      <td>27878.0</td>\n",
       "      <td>1838.0</td>\n",
       "      <td>11504.0</td>\n",
       "      <td>855.0</td>\n",
       "      <td>172.0</td>\n",
       "      <td>26.0</td>\n",
       "      <td>39570.0</td>\n",
       "      <td>19157.0</td>\n",
       "      <td>7411.0</td>\n",
       "      <td>17271.0</td>\n",
       "      <td>...</td>\n",
       "      <td>2222579.0</td>\n",
       "      <td>853.0</td>\n",
       "      <td>5946.0</td>\n",
       "      <td>3591.0</td>\n",
       "      <td>349.0</td>\n",
       "      <td>675.0</td>\n",
       "      <td>9.0</td>\n",
       "      <td>919.0</td>\n",
       "      <td>1430.0</td>\n",
       "      <td>479.0</td>\n",
       "    </tr>\n",
       "    <tr>\n",
       "      <th>2020-06-20</th>\n",
       "      <td>28424.0</td>\n",
       "      <td>1891.0</td>\n",
       "      <td>11631.0</td>\n",
       "      <td>855.0</td>\n",
       "      <td>176.0</td>\n",
       "      <td>26.0</td>\n",
       "      <td>41204.0</td>\n",
       "      <td>19708.0</td>\n",
       "      <td>7461.0</td>\n",
       "      <td>17323.0</td>\n",
       "      <td>...</td>\n",
       "      <td>2255119.0</td>\n",
       "      <td>859.0</td>\n",
       "      <td>6153.0</td>\n",
       "      <td>3789.0</td>\n",
       "      <td>349.0</td>\n",
       "      <td>784.0</td>\n",
       "      <td>9.0</td>\n",
       "      <td>922.0</td>\n",
       "      <td>1430.0</td>\n",
       "      <td>479.0</td>\n",
       "    </tr>\n",
       "    <tr>\n",
       "      <th>2020-06-21</th>\n",
       "      <td>28833.0</td>\n",
       "      <td>1962.0</td>\n",
       "      <td>11771.0</td>\n",
       "      <td>855.0</td>\n",
       "      <td>183.0</td>\n",
       "      <td>26.0</td>\n",
       "      <td>42785.0</td>\n",
       "      <td>20268.0</td>\n",
       "      <td>7474.0</td>\n",
       "      <td>17341.0</td>\n",
       "      <td>...</td>\n",
       "      <td>2281290.0</td>\n",
       "      <td>876.0</td>\n",
       "      <td>6315.0</td>\n",
       "      <td>3917.0</td>\n",
       "      <td>349.0</td>\n",
       "      <td>833.0</td>\n",
       "      <td>9.0</td>\n",
       "      <td>941.0</td>\n",
       "      <td>1430.0</td>\n",
       "      <td>489.0</td>\n",
       "    </tr>\n",
       "    <tr>\n",
       "      <th>2020-06-22</th>\n",
       "      <td>29157.0</td>\n",
       "      <td>1995.0</td>\n",
       "      <td>11920.0</td>\n",
       "      <td>855.0</td>\n",
       "      <td>186.0</td>\n",
       "      <td>26.0</td>\n",
       "      <td>44931.0</td>\n",
       "      <td>20588.0</td>\n",
       "      <td>7492.0</td>\n",
       "      <td>17380.0</td>\n",
       "      <td>...</td>\n",
       "      <td>2312302.0</td>\n",
       "      <td>882.0</td>\n",
       "      <td>6461.0</td>\n",
       "      <td>4048.0</td>\n",
       "      <td>349.0</td>\n",
       "      <td>1001.0</td>\n",
       "      <td>10.0</td>\n",
       "      <td>967.0</td>\n",
       "      <td>1430.0</td>\n",
       "      <td>512.0</td>\n",
       "    </tr>\n",
       "    <tr>\n",
       "      <th>2020-06-23</th>\n",
       "      <td>29481.0</td>\n",
       "      <td>2047.0</td>\n",
       "      <td>12076.0</td>\n",
       "      <td>855.0</td>\n",
       "      <td>189.0</td>\n",
       "      <td>26.0</td>\n",
       "      <td>47203.0</td>\n",
       "      <td>21006.0</td>\n",
       "      <td>7521.0</td>\n",
       "      <td>17408.0</td>\n",
       "      <td>...</td>\n",
       "      <td>2347022.0</td>\n",
       "      <td>885.0</td>\n",
       "      <td>6662.0</td>\n",
       "      <td>4187.0</td>\n",
       "      <td>349.0</td>\n",
       "      <td>1169.0</td>\n",
       "      <td>10.0</td>\n",
       "      <td>992.0</td>\n",
       "      <td>1477.0</td>\n",
       "      <td>525.0</td>\n",
       "    </tr>\n",
       "  </tbody>\n",
       "</table>\n",
       "<p>5 rows × 188 columns</p>\n",
       "</div>"
      ],
      "text/plain": [
       "            Afghanistan confirmed  Albania confirmed  Algeria confirmed  \\\n",
       "Date                                                                      \n",
       "2020-06-19                27878.0             1838.0            11504.0   \n",
       "2020-06-20                28424.0             1891.0            11631.0   \n",
       "2020-06-21                28833.0             1962.0            11771.0   \n",
       "2020-06-22                29157.0             1995.0            11920.0   \n",
       "2020-06-23                29481.0             2047.0            12076.0   \n",
       "\n",
       "            Andorra confirmed  Angola confirmed  \\\n",
       "Date                                              \n",
       "2020-06-19              855.0             172.0   \n",
       "2020-06-20              855.0             176.0   \n",
       "2020-06-21              855.0             183.0   \n",
       "2020-06-22              855.0             186.0   \n",
       "2020-06-23              855.0             189.0   \n",
       "\n",
       "            Antigua and Barbuda confirmed  Argentina confirmed  \\\n",
       "Date                                                             \n",
       "2020-06-19                           26.0              39570.0   \n",
       "2020-06-20                           26.0              41204.0   \n",
       "2020-06-21                           26.0              42785.0   \n",
       "2020-06-22                           26.0              44931.0   \n",
       "2020-06-23                           26.0              47203.0   \n",
       "\n",
       "            Armenia confirmed  Australia confirmed  Austria confirmed  ...  \\\n",
       "Date                                                                   ...   \n",
       "2020-06-19            19157.0               7411.0            17271.0  ...   \n",
       "2020-06-20            19708.0               7461.0            17323.0  ...   \n",
       "2020-06-21            20268.0               7474.0            17341.0  ...   \n",
       "2020-06-22            20588.0               7492.0            17380.0  ...   \n",
       "2020-06-23            21006.0               7521.0            17408.0  ...   \n",
       "\n",
       "            United States confirmed  Uruguay confirmed  Uzbekistan confirmed  \\\n",
       "Date                                                                           \n",
       "2020-06-19                2222579.0              853.0                5946.0   \n",
       "2020-06-20                2255119.0              859.0                6153.0   \n",
       "2020-06-21                2281290.0              876.0                6315.0   \n",
       "2020-06-22                2312302.0              882.0                6461.0   \n",
       "2020-06-23                2347022.0              885.0                6662.0   \n",
       "\n",
       "            Venezuela confirmed  Vietnam confirmed  \\\n",
       "Date                                                 \n",
       "2020-06-19               3591.0              349.0   \n",
       "2020-06-20               3789.0              349.0   \n",
       "2020-06-21               3917.0              349.0   \n",
       "2020-06-22               4048.0              349.0   \n",
       "2020-06-23               4187.0              349.0   \n",
       "\n",
       "            West Bank and Gaza confirmed  Western Sahara confirmed  \\\n",
       "Date                                                                 \n",
       "2020-06-19                         675.0                       9.0   \n",
       "2020-06-20                         784.0                       9.0   \n",
       "2020-06-21                         833.0                       9.0   \n",
       "2020-06-22                        1001.0                      10.0   \n",
       "2020-06-23                        1169.0                      10.0   \n",
       "\n",
       "            Yemen confirmed  Zambia confirmed  Zimbabwe confirmed  \n",
       "Date                                                               \n",
       "2020-06-19            919.0            1430.0               479.0  \n",
       "2020-06-20            922.0            1430.0               479.0  \n",
       "2020-06-21            941.0            1430.0               489.0  \n",
       "2020-06-22            967.0            1430.0               512.0  \n",
       "2020-06-23            992.0            1477.0               525.0  \n",
       "\n",
       "[5 rows x 188 columns]"
      ]
     },
     "execution_count": 9,
     "metadata": {},
     "output_type": "execute_result"
    }
   ],
   "source": [
    "df_confirmed_agg.tail(5)"
   ]
  },
  {
   "cell_type": "markdown",
   "metadata": {},
   "source": [
    "## Plotting the cases data\n",
    "\n",
    "We can try plotting confirmed cases in Italy and China."
   ]
  },
  {
   "cell_type": "code",
   "execution_count": 10,
   "metadata": {
    "ExecuteTime": {
     "end_time": "2020-06-24T13:01:02.960210Z",
     "start_time": "2020-06-24T13:01:02.647203Z"
    }
   },
   "outputs": [
    {
     "data": {
      "image/png": "[encoded data removed]",
      "text/plain": [
       "<Figure size 432x288 with 1 Axes>"
      ]
     },
     "metadata": {
      "needs_background": "light"
     },
     "output_type": "display_data"
    }
   ],
   "source": [
    "ax = df_confirmed_agg[['Italy confirmed', 'China confirmed']].plot()\n",
    "ax.set_ylabel(\"Confirmed cases\");"
   ]
  },
  {
   "cell_type": "markdown",
   "metadata": {},
   "source": [
    "## Adjusting data by population\n",
    "\n",
    "Obviously, it's difficult to compare these values, because of the differences in population. Let's download that data from OECD. We'll just pick up population data for 2014, the latest year available, and we strip down the dataframe, so it only has population values. Note, that this data isn't going to change often, so we can just cache it locally as a CSV."
   ]
  },
  {
   "cell_type": "code",
   "execution_count": 11,
   "metadata": {
    "ExecuteTime": {
     "end_time": "2020-06-24T13:01:02.990210Z",
     "start_time": "2020-06-24T13:01:02.961211Z"
    }
   },
   "outputs": [],
   "source": [
    "import os\n",
    "\n",
    "oecd_local_path = 'OECD.csv'\n",
    "\n",
    "if os.path.exists(oecd_local_path):\n",
    "    oecd_pop_df = pd.read_csv(oecd_local_path)\n",
    "else:\n",
    "    oecd_pop_df = pd.read_csv(oecd_path)\n",
    "    oecd_pop_df.to_csv(oecd_local_path)\n",
    "\n",
    "oecd_pop_df = oecd_pop_df[(oecd_pop_df['TIME'] == 2013) & (oecd_pop_df['SUBJECT'] == 'TOT') \\\n",
    "                              & (oecd_pop_df['MEASURE'] == 'MLN_PER')]\n",
    "    \n",
    "oecd_pop_df = pd.DataFrame(index=oecd_pop_df['LOCATION'].values, data=oecd_pop_df['Value'].values, columns=['Population'])\n",
    "oecd_pop_df = oecd_pop_df.transpose()"
   ]
  },
  {
   "cell_type": "markdown",
   "metadata": {},
   "source": [
    "If we look at the OECD data, it contains ISO codes, rather than the country names. We want to be able to convert the codes to country names, so we join it with our coronavirus dataset from earlier."
   ]
  },
  {
   "cell_type": "code",
   "execution_count": 12,
   "metadata": {
    "ExecuteTime": {
     "end_time": "2020-06-24T13:01:03.020209Z",
     "start_time": "2020-06-24T13:01:02.992211Z"
    }
   },
   "outputs": [
    {
     "data": {
      "text/html": [
       "<div>\n",
       "<style scoped>\n",
       "    .dataframe tbody tr th:only-of-type {\n",
       "        vertical-align: middle;\n",
       "    }\n",
       "\n",
       "    .dataframe tbody tr th {\n",
       "        vertical-align: top;\n",
       "    }\n",
       "\n",
       "    .dataframe thead th {\n",
       "        text-align: right;\n",
       "    }\n",
       "</style>\n",
       "<table border=\"1\" class=\"dataframe\">\n",
       "  <thead>\n",
       "    <tr style=\"text-align: right;\">\n",
       "      <th></th>\n",
       "      <th>AUS</th>\n",
       "      <th>AUT</th>\n",
       "      <th>BEL</th>\n",
       "      <th>CAN</th>\n",
       "      <th>CZE</th>\n",
       "      <th>DNK</th>\n",
       "      <th>FIN</th>\n",
       "      <th>FRA</th>\n",
       "      <th>DEU</th>\n",
       "      <th>GRC</th>\n",
       "      <th>...</th>\n",
       "      <th>CRI</th>\n",
       "      <th>HRV</th>\n",
       "      <th>CYP</th>\n",
       "      <th>LTU</th>\n",
       "      <th>MLT</th>\n",
       "      <th>ROU</th>\n",
       "      <th>SAU</th>\n",
       "      <th>SGP</th>\n",
       "      <th>WLD</th>\n",
       "      <th>G20</th>\n",
       "    </tr>\n",
       "  </thead>\n",
       "  <tbody>\n",
       "    <tr>\n",
       "      <th>Population</th>\n",
       "      <td>23.128129</td>\n",
       "      <td>8.47723</td>\n",
       "      <td>11.125033</td>\n",
       "      <td>35.082954</td>\n",
       "      <td>10.510719</td>\n",
       "      <td>5.608784</td>\n",
       "      <td>5.438975</td>\n",
       "      <td>65.735961</td>\n",
       "      <td>80.645605</td>\n",
       "      <td>10.965209</td>\n",
       "      <td>...</td>\n",
       "      <td>4.713168</td>\n",
       "      <td>4.254469</td>\n",
       "      <td>0.861938</td>\n",
       "      <td>2.957689</td>\n",
       "      <td>0.425966</td>\n",
       "      <td>19.988694</td>\n",
       "      <td>29.944476</td>\n",
       "      <td>3.844751</td>\n",
       "      <td>7213.426452</td>\n",
       "      <td>4632.240533</td>\n",
       "    </tr>\n",
       "  </tbody>\n",
       "</table>\n",
       "<p>1 rows × 56 columns</p>\n",
       "</div>"
      ],
      "text/plain": [
       "                  AUS      AUT        BEL        CAN        CZE       DNK  \\\n",
       "Population  23.128129  8.47723  11.125033  35.082954  10.510719  5.608784   \n",
       "\n",
       "                 FIN        FRA        DEU        GRC  ...       CRI  \\\n",
       "Population  5.438975  65.735961  80.645605  10.965209  ...  4.713168   \n",
       "\n",
       "                 HRV       CYP       LTU       MLT        ROU        SAU  \\\n",
       "Population  4.254469  0.861938  2.957689  0.425966  19.988694  29.944476   \n",
       "\n",
       "                 SGP          WLD          G20  \n",
       "Population  3.844751  7213.426452  4632.240533  \n",
       "\n",
       "[1 rows x 56 columns]"
      ]
     },
     "execution_count": 12,
     "metadata": {},
     "output_type": "execute_result"
    }
   ],
   "source": [
    "oecd_pop_df"
   ]
  },
  {
   "cell_type": "markdown",
   "metadata": {},
   "source": [
    "Let's now get the ISO codes from the various countries. We can get these from plotly express's in built gapminder datasets. Martien Lubberink has suggested the [pycountry library](https://pypi.org/project/pycountry/) which makes the whole process of getting ISO codes from countries much easier."
   ]
  },
  {
   "cell_type": "code",
   "execution_count": 13,
   "metadata": {
    "ExecuteTime": {
     "end_time": "2020-06-24T13:01:06.635225Z",
     "start_time": "2020-06-24T13:01:03.022210Z"
    }
   },
   "outputs": [],
   "source": [
    "import plotly.express as px\n",
    "\n",
    "iso_local_path = 'iso_code.csv'\n",
    "\n",
    "if os.path.exists(iso_local_path):\n",
    "    df_iso = pd.read_csv(iso_local_path)\n",
    "else:\n",
    "    df_iso = px.data.gapminder().query(\"year==2007\")[['country', 'iso_alpha']]\n",
    "    \n",
    "    df_iso.index.name = 'code'\n",
    "\n",
    "    # Relabel countries so the names match in the coronavirus dataset\n",
    "    df_iso = df_iso.replace('Korea, Rep.', 'Korea, South')\n",
    "    df_iso = df_iso.replace('Czech Republic', 'Czechia')\n",
    "    df_iso = df_iso.replace('Slovak Republic', 'Slovakia')\n",
    "    df_iso = df_iso[df_iso['country'] != 'Korea, Dem. Rep.']\n",
    "\n",
    "    # Some countries are missing that we need to add \n",
    "    # https://en.wikipedia.org/wiki/List_of_ISO_3166_country_codes\n",
    "    extra_countries = [(170, 'Colombia', 'COL'),\n",
    "    (376, 'Israel', 'ISR'),\n",
    "    (643, 'Russia', 'RUS'),\n",
    "    (233, 'Estonia', 'EST'),\n",
    "    (442, 'Luxembourg', 'LUX'),\n",
    "    (428, 'Latvia', 'LVA'),\n",
    "    (440, 'Lithuania', 'LTU'),\n",
    "    (196, 'Cyprus', 'CYP'),\n",
    "    (470, 'Malta', 'MLT')]\n",
    "\n",
    "    df_iso_extra = pd.DataFrame(data=extra_countries, columns=['code', 'country', 'iso_alpha'])\n",
    "    df_iso_extra = df_iso_extra.set_index('code')\n",
    "    \n",
    "    df_iso = df_iso.append(df_iso_extra)\n",
    "    \n",
    "    df_iso.to_csv(iso_local_path)"
   ]
  },
  {
   "cell_type": "markdown",
   "metadata": {},
   "source": [
    "Let's have a look at the ISO code dataset."
   ]
  },
  {
   "cell_type": "code",
   "execution_count": 14,
   "metadata": {
    "ExecuteTime": {
     "end_time": "2020-06-24T13:01:06.650228Z",
     "start_time": "2020-06-24T13:01:06.637226Z"
    }
   },
   "outputs": [
    {
     "data": {
      "text/html": [
       "<div>\n",
       "<style scoped>\n",
       "    .dataframe tbody tr th:only-of-type {\n",
       "        vertical-align: middle;\n",
       "    }\n",
       "\n",
       "    .dataframe tbody tr th {\n",
       "        vertical-align: top;\n",
       "    }\n",
       "\n",
       "    .dataframe thead th {\n",
       "        text-align: right;\n",
       "    }\n",
       "</style>\n",
       "<table border=\"1\" class=\"dataframe\">\n",
       "  <thead>\n",
       "    <tr style=\"text-align: right;\">\n",
       "      <th></th>\n",
       "      <th>code</th>\n",
       "      <th>country</th>\n",
       "      <th>iso_alpha</th>\n",
       "    </tr>\n",
       "  </thead>\n",
       "  <tbody>\n",
       "    <tr>\n",
       "      <th>0</th>\n",
       "      <td>11</td>\n",
       "      <td>Afghanistan</td>\n",
       "      <td>AFG</td>\n",
       "    </tr>\n",
       "    <tr>\n",
       "      <th>1</th>\n",
       "      <td>23</td>\n",
       "      <td>Albania</td>\n",
       "      <td>ALB</td>\n",
       "    </tr>\n",
       "    <tr>\n",
       "      <th>2</th>\n",
       "      <td>35</td>\n",
       "      <td>Algeria</td>\n",
       "      <td>DZA</td>\n",
       "    </tr>\n",
       "    <tr>\n",
       "      <th>3</th>\n",
       "      <td>47</td>\n",
       "      <td>Angola</td>\n",
       "      <td>AGO</td>\n",
       "    </tr>\n",
       "    <tr>\n",
       "      <th>4</th>\n",
       "      <td>59</td>\n",
       "      <td>Argentina</td>\n",
       "      <td>ARG</td>\n",
       "    </tr>\n",
       "  </tbody>\n",
       "</table>\n",
       "</div>"
      ],
      "text/plain": [
       "   code      country iso_alpha\n",
       "0    11  Afghanistan       AFG\n",
       "1    23      Albania       ALB\n",
       "2    35      Algeria       DZA\n",
       "3    47       Angola       AGO\n",
       "4    59    Argentina       ARG"
      ]
     },
     "execution_count": 14,
     "metadata": {},
     "output_type": "execute_result"
    }
   ],
   "source": [
    "df_iso.head(5)"
   ]
  },
  {
   "cell_type": "markdown",
   "metadata": {},
   "source": [
    "We can replace the OECD ISO codes in the columns with the country names (with exceptions), so both datasets have matching names."
   ]
  },
  {
   "cell_type": "code",
   "execution_count": 15,
   "metadata": {
    "ExecuteTime": {
     "end_time": "2020-06-24T13:01:06.695226Z",
     "start_time": "2020-06-24T13:01:06.652228Z"
    }
   },
   "outputs": [],
   "source": [
    "lst = []\n",
    "\n",
    "for col in oecd_pop_df.columns:\n",
    "    try:\n",
    "        col = df_iso['country'][df_iso['iso_alpha'] == col].values[0]\n",
    "    except:\n",
    "        pass\n",
    "    \n",
    "    lst.append(col)\n",
    "\n",
    "oecd_pop_df.columns = lst"
   ]
  },
  {
   "cell_type": "markdown",
   "metadata": {},
   "source": [
    "We see we have relabelled the countries and also remove for example EU28 and OECD, given the coronavirus dataset doesn't have this data for aggregated grouping of countries. We also remove countries which are still in code format (ie. 3 letters long)."
   ]
  },
  {
   "cell_type": "code",
   "execution_count": 16,
   "metadata": {
    "ExecuteTime": {
     "end_time": "2020-06-24T13:01:06.710226Z",
     "start_time": "2020-06-24T13:01:06.697226Z"
    }
   },
   "outputs": [
    {
     "data": {
      "text/plain": [
       "Index(['Australia', 'Austria', 'Belgium', 'Canada', 'Czechia', 'Denmark',\n",
       "       'Finland', 'France', 'Germany', 'Greece', 'Hungary', 'Iceland',\n",
       "       'Ireland', 'Italy', 'Japan', 'Korea, South', 'Luxembourg', 'Mexico',\n",
       "       'Netherlands', 'New Zealand', 'Norway', 'Poland', 'Portugal',\n",
       "       'Slovakia', 'Spain', 'Sweden', 'Switzerland', 'Turkey',\n",
       "       'United Kingdom', 'United States', 'Brazil', 'Chile', 'Colombia',\n",
       "       'Estonia', 'Israel', 'Russia', 'Slovenia', 'China', 'India',\n",
       "       'Indonesia', 'South Africa', 'Latvia', 'Argentina', 'Bulgaria',\n",
       "       'Costa Rica', 'Croatia', 'Cyprus', 'Lithuania', 'Malta', 'Romania',\n",
       "       'Saudi Arabia', 'Singapore'],\n",
       "      dtype='object')"
      ]
     },
     "execution_count": 16,
     "metadata": {},
     "output_type": "execute_result"
    }
   ],
   "source": [
    "excluded_countries = ['EU28', 'G20', 'OECD', 'WLD']\n",
    "oecd_countries = [x for x in oecd_pop_df.columns if x not in excluded_countries and len(x) > 3]\n",
    "oecd_pop_df = oecd_pop_df[oecd_countries]\n",
    "\n",
    "oecd_pop_df.columns"
   ]
  },
  {
   "cell_type": "markdown",
   "metadata": {},
   "source": [
    "Our dataset now only has the population values. One slight complication is that currency codes do not match our earlier datasets. The population of Italy is 60 million, whereas for China it is 1385 million. Admittedly this might be an simplistic comparison, given that most of the cases in China were in a specific area Hubei, which has a population of 58.5 million (from https://en.wikipedia.org/wiki/Hubei). Also for Italy most of the cases at the start of the episode have been in Northern Italy."
   ]
  },
  {
   "cell_type": "code",
   "execution_count": 17,
   "metadata": {
    "ExecuteTime": {
     "end_time": "2020-06-24T13:01:06.725226Z",
     "start_time": "2020-06-24T13:01:06.711227Z"
    }
   },
   "outputs": [
    {
     "data": {
      "text/html": [
       "<div>\n",
       "<style scoped>\n",
       "    .dataframe tbody tr th:only-of-type {\n",
       "        vertical-align: middle;\n",
       "    }\n",
       "\n",
       "    .dataframe tbody tr th {\n",
       "        vertical-align: top;\n",
       "    }\n",
       "\n",
       "    .dataframe thead th {\n",
       "        text-align: right;\n",
       "    }\n",
       "</style>\n",
       "<table border=\"1\" class=\"dataframe\">\n",
       "  <thead>\n",
       "    <tr style=\"text-align: right;\">\n",
       "      <th></th>\n",
       "      <th>Italy</th>\n",
       "      <th>China</th>\n",
       "    </tr>\n",
       "  </thead>\n",
       "  <tbody>\n",
       "    <tr>\n",
       "      <th>Population</th>\n",
       "      <td>60.233944</td>\n",
       "      <td>1382.793212</td>\n",
       "    </tr>\n",
       "  </tbody>\n",
       "</table>\n",
       "</div>"
      ],
      "text/plain": [
       "                Italy        China\n",
       "Population  60.233944  1382.793212"
      ]
     },
     "execution_count": 17,
     "metadata": {},
     "output_type": "execute_result"
    }
   ],
   "source": [
    "oecd_pop_df[['Italy', 'China']]"
   ]
  },
  {
   "cell_type": "markdown",
   "metadata": {},
   "source": [
    "Let's create a copy of the confirmed data and we'll then normalize the values by population for OECD countries where we have population data."
   ]
  },
  {
   "cell_type": "code",
   "execution_count": 18,
   "metadata": {
    "ExecuteTime": {
     "end_time": "2020-06-24T13:01:06.755225Z",
     "start_time": "2020-06-24T13:01:06.727231Z"
    }
   },
   "outputs": [],
   "source": [
    "def normalize_data_by_pop(df, pop_df, label, countries_to_normalize):\n",
    "\n",
    "    df = df.copy()\n",
    "\n",
    "    for x in countries_to_normalize:\n",
    "        df[x + ' ' + label] = df[x + ' ' + label].values / pop_df[x].values[0]\n",
    "        \n",
    "        \n",
    "    return df\n",
    "        \n",
    "df_confirmed_oecd_normalized = normalize_data_by_pop(df_confirmed_agg, oecd_pop_df, 'confirmed', oecd_countries)\n",
    "df_deaths_oecd_normalized = normalize_data_by_pop(df_deaths_agg, oecd_pop_df, 'deaths', oecd_countries)"
   ]
  },
  {
   "cell_type": "markdown",
   "metadata": {},
   "source": [
    "If we plot the normalized figure for a few countries, the number of confirmed cases looks worse in Italy compared to China (but there are some caveats about Chinese data). Note also the different starting points, later on, we'll create functions, to adjust for the start of the outbreaks, to make the comparison more even."
   ]
  },
  {
   "cell_type": "code",
   "execution_count": 19,
   "metadata": {
    "ExecuteTime": {
     "end_time": "2020-06-24T13:01:07.040233Z",
     "start_time": "2020-06-24T13:01:06.757230Z"
    }
   },
   "outputs": [
    {
     "data": {
      "image/png": "[encoded data removed]",
      "text/plain": [
       "<Figure size 432x288 with 1 Axes>"
      ]
     },
     "metadata": {
      "needs_background": "light"
     },
     "output_type": "display_data"
    }
   ],
   "source": [
    "ax = df_confirmed_oecd_normalized[['Germany confirmed', 'Spain confirmed', 'United Kingdom confirmed', 'United States confirmed', 'Italy confirmed', 'China confirmed']].plot()\n",
    "ax.set_ylabel(\"Confirmed cases/Total population (millions)\");"
   ]
  },
  {
   "cell_type": "markdown",
   "metadata": {},
   "source": [
    "Let's compare the total number of confirmed cases in Italy and the United Kingdom, which have relatively similar population levels. In this case we have shifted the UK values by 2 weeks. Thus far it seems as though the UK's confirmed cases is following the same pattern as Italy."
   ]
  },
  {
   "cell_type": "code",
   "execution_count": 20,
   "metadata": {
    "ExecuteTime": {
     "end_time": "2020-06-24T13:01:07.280226Z",
     "start_time": "2020-06-24T13:01:07.042227Z"
    }
   },
   "outputs": [
    {
     "data": {
      "image/png": "[encoded data removed]",
      "text/plain": [
       "<Figure size 432x288 with 1 Axes>"
      ]
     },
     "metadata": {
      "needs_background": "light"
     },
     "output_type": "display_data"
    }
   ],
   "source": [
    "df_confirmed_agg_lag = df_confirmed_agg.copy()\n",
    "\n",
    "df_confirmed_agg_lag['United Kingdom confirmed (shifted 14 days)'] = df_confirmed_agg_lag['United Kingdom confirmed'].shift(-14)\n",
    "ax = df_confirmed_agg_lag[['Italy confirmed', 'United Kingdom confirmed (shifted 14 days)']].plot()\n",
    "ax.set_ylabel(\"Confirmed cases\");"
   ]
  },
  {
   "cell_type": "markdown",
   "metadata": {},
   "source": [
    "Let's combine the confirmed cases with the deaths data, so we can compare the data."
   ]
  },
  {
   "cell_type": "code",
   "execution_count": 21,
   "metadata": {
    "ExecuteTime": {
     "end_time": "2020-06-24T13:01:07.295226Z",
     "start_time": "2020-06-24T13:01:07.282227Z"
    }
   },
   "outputs": [],
   "source": [
    "df_confirmed_deaths_df = df_confirmed_agg.join(df_deaths_agg)"
   ]
  },
  {
   "cell_type": "markdown",
   "metadata": {},
   "source": [
    "Let's plot it for Italy."
   ]
  },
  {
   "cell_type": "code",
   "execution_count": 22,
   "metadata": {
    "ExecuteTime": {
     "end_time": "2020-06-24T13:01:07.535225Z",
     "start_time": "2020-06-24T13:01:07.297227Z"
    }
   },
   "outputs": [
    {
     "data": {
      "image/png": "[encoded data removed]",
      "text/plain": [
       "<Figure size 432x288 with 1 Axes>"
      ]
     },
     "metadata": {
      "needs_background": "light"
     },
     "output_type": "display_data"
    }
   ],
   "source": [
    "ax = df_confirmed_deaths_df[['Italy confirmed', 'Italy deaths']].plot()"
   ]
  },
  {
   "cell_type": "markdown",
   "metadata": {},
   "source": [
    "## Adjusting confirmed cases by deaths\n",
    "\n",
    "Next, we want to calculate the number of confirmed/death percentage. Note, for a large part of the sample this will be undefined for Italy (when there were no confirmed cases or deaths, which we shall label as zero)."
   ]
  },
  {
   "cell_type": "code",
   "execution_count": 23,
   "metadata": {
    "ExecuteTime": {
     "end_time": "2020-06-24T13:01:07.550226Z",
     "start_time": "2020-06-24T13:01:07.538226Z"
    }
   },
   "outputs": [
    {
     "name": "stderr",
     "output_type": "stream",
     "text": [
      "C:\\Anaconda3\\envs\\py36class\\lib\\site-packages\\ipykernel_launcher.py:5: RuntimeWarning:\n",
      "\n",
      "invalid value encountered in true_divide\n",
      "\n"
     ]
    }
   ],
   "source": [
    "countries_confirmed = [x + ' confirmed' for x in countries]\n",
    "countries_deaths = [x + ' deaths' for x in countries]\n",
    "countries_ratio = [x + ' deaths/confirmed' for x in countries]\n",
    "\n",
    "perc = 100.0 * (df_deaths_agg[countries_deaths].values / df_confirmed_agg[countries_confirmed].values)\n",
    "\n",
    "df_deaths_confirmed_perc = pd.DataFrame(index=df_deaths_agg.index, data=perc, columns=countries_ratio)\n",
    "df_deaths_confirmed_perc = df_deaths_confirmed_perc.fillna(0) "
   ]
  },
  {
   "cell_type": "markdown",
   "metadata": {},
   "source": [
    "We can plot the percentages for China and Italy. For China it's been between 2-4%, although it appears higher in some sections of the time series in Italy. One reason can also be the number of tests conducted versus the overall population. As of March 3, 2020, [WHO reported](https://www.who.int/dg/speeches/detail/who-director-general-s-opening-remarks-at-the-media-briefing-on-covid-19---3-march-2020) a figure of 3.4% globally."
   ]
  },
  {
   "cell_type": "code",
   "execution_count": 24,
   "metadata": {
    "ExecuteTime": {
     "end_time": "2020-06-24T13:01:07.790231Z",
     "start_time": "2020-06-24T13:01:07.552228Z"
    }
   },
   "outputs": [
    {
     "data": {
      "image/png": "[encoded data removed]",
      "text/plain": [
       "<Figure size 432x288 with 1 Axes>"
      ]
     },
     "metadata": {
      "needs_background": "light"
     },
     "output_type": "display_data"
    }
   ],
   "source": [
    "ax = df_deaths_confirmed_perc[['Italy deaths/confirmed', 'China deaths/confirmed']].plot()\n",
    "ax.set_xlabel('Deaths/confirmed percentage');"
   ]
  },
  {
   "cell_type": "markdown",
   "metadata": {},
   "source": [
    "Let's take the last available date for values, and then convert our DataFrame into tidy format (see https://cfss.uchicago.edu/notes/tidy-data/ for a description), which can be utilised more easily by certain Python libraries."
   ]
  },
  {
   "cell_type": "code",
   "execution_count": 25,
   "metadata": {
    "ExecuteTime": {
     "end_time": "2020-06-24T13:01:07.805226Z",
     "start_time": "2020-06-24T13:01:07.792227Z"
    }
   },
   "outputs": [],
   "source": [
    "df_deaths_confirmed_perc_tidy = df_deaths_confirmed_perc.tail(1)\n",
    "df_deaths_confirmed_perc_tidy.columns = [x.replace(' deaths/confirmed', '') for x in df_deaths_confirmed_perc_tidy.columns]\n",
    "df_deaths_confirmed_perc_tidy = df_deaths_confirmed_perc_tidy.melt()\n",
    "df_deaths_confirmed_perc_tidy.columns = ['country', 'deaths/confirmed perc']\n",
    "\n",
    "import numpy as np\n",
    "df_deaths_confirmed_perc_tidy = df_deaths_confirmed_perc_tidy.replace(0, np.nan)"
   ]
  },
  {
   "cell_type": "markdown",
   "metadata": {},
   "source": [
    "Let's display the tidy DataFrame."
   ]
  },
  {
   "cell_type": "code",
   "execution_count": 26,
   "metadata": {
    "ExecuteTime": {
     "end_time": "2020-06-24T13:01:07.820226Z",
     "start_time": "2020-06-24T13:01:07.807230Z"
    }
   },
   "outputs": [
    {
     "data": {
      "text/html": [
       "<div>\n",
       "<style scoped>\n",
       "    .dataframe tbody tr th:only-of-type {\n",
       "        vertical-align: middle;\n",
       "    }\n",
       "\n",
       "    .dataframe tbody tr th {\n",
       "        vertical-align: top;\n",
       "    }\n",
       "\n",
       "    .dataframe thead th {\n",
       "        text-align: right;\n",
       "    }\n",
       "</style>\n",
       "<table border=\"1\" class=\"dataframe\">\n",
       "  <thead>\n",
       "    <tr style=\"text-align: right;\">\n",
       "      <th></th>\n",
       "      <th>country</th>\n",
       "      <th>deaths/confirmed perc</th>\n",
       "    </tr>\n",
       "  </thead>\n",
       "  <tbody>\n",
       "    <tr>\n",
       "      <th>0</th>\n",
       "      <td>Afghanistan</td>\n",
       "      <td>2.096265</td>\n",
       "    </tr>\n",
       "    <tr>\n",
       "      <th>1</th>\n",
       "      <td>Albania</td>\n",
       "      <td>2.198339</td>\n",
       "    </tr>\n",
       "    <tr>\n",
       "      <th>2</th>\n",
       "      <td>Algeria</td>\n",
       "      <td>7.129844</td>\n",
       "    </tr>\n",
       "    <tr>\n",
       "      <th>3</th>\n",
       "      <td>Andorra</td>\n",
       "      <td>6.081871</td>\n",
       "    </tr>\n",
       "    <tr>\n",
       "      <th>4</th>\n",
       "      <td>Angola</td>\n",
       "      <td>5.291005</td>\n",
       "    </tr>\n",
       "  </tbody>\n",
       "</table>\n",
       "</div>"
      ],
      "text/plain": [
       "       country  deaths/confirmed perc\n",
       "0  Afghanistan               2.096265\n",
       "1      Albania               2.198339\n",
       "2      Algeria               7.129844\n",
       "3      Andorra               6.081871\n",
       "4       Angola               5.291005"
      ]
     },
     "execution_count": 26,
     "metadata": {},
     "output_type": "execute_result"
    }
   ],
   "source": [
    "df_deaths_confirmed_perc_tidy.head(5)"
   ]
  },
  {
   "cell_type": "markdown",
   "metadata": {
    "ExecuteTime": {
     "end_time": "2020-03-12T16:22:09.366797Z",
     "start_time": "2020-03-12T16:22:09.341864Z"
    }
   },
   "source": [
    "## Plotting cases on a world map\n",
    "\n",
    "We can now plot it using plotly express to create a world map using the death/confirmed ratio. But before we do that, we need to get the iso_codes for each country, which we got earlier from plotly express's in built gapminder datasets."
   ]
  },
  {
   "cell_type": "code",
   "execution_count": 27,
   "metadata": {
    "ExecuteTime": {
     "end_time": "2020-06-24T13:01:07.835226Z",
     "start_time": "2020-06-24T13:01:07.822227Z"
    }
   },
   "outputs": [],
   "source": [
    "import plotly.express as px\n",
    "\n",
    "df_deaths_confirmed_perc_tidy = df_deaths_confirmed_perc_tidy.merge(df_iso, on='country')"
   ]
  },
  {
   "cell_type": "markdown",
   "metadata": {},
   "source": [
    "We now have a DataFrame with the additional iso_alpha column."
   ]
  },
  {
   "cell_type": "code",
   "execution_count": 28,
   "metadata": {
    "ExecuteTime": {
     "end_time": "2020-06-24T13:01:07.850226Z",
     "start_time": "2020-06-24T13:01:07.837227Z"
    }
   },
   "outputs": [
    {
     "data": {
      "text/html": [
       "<div>\n",
       "<style scoped>\n",
       "    .dataframe tbody tr th:only-of-type {\n",
       "        vertical-align: middle;\n",
       "    }\n",
       "\n",
       "    .dataframe tbody tr th {\n",
       "        vertical-align: top;\n",
       "    }\n",
       "\n",
       "    .dataframe thead th {\n",
       "        text-align: right;\n",
       "    }\n",
       "</style>\n",
       "<table border=\"1\" class=\"dataframe\">\n",
       "  <thead>\n",
       "    <tr style=\"text-align: right;\">\n",
       "      <th></th>\n",
       "      <th>country</th>\n",
       "      <th>deaths/confirmed perc</th>\n",
       "      <th>code</th>\n",
       "      <th>iso_alpha</th>\n",
       "    </tr>\n",
       "  </thead>\n",
       "  <tbody>\n",
       "    <tr>\n",
       "      <th>0</th>\n",
       "      <td>Afghanistan</td>\n",
       "      <td>2.096265</td>\n",
       "      <td>11</td>\n",
       "      <td>AFG</td>\n",
       "    </tr>\n",
       "    <tr>\n",
       "      <th>1</th>\n",
       "      <td>Albania</td>\n",
       "      <td>2.198339</td>\n",
       "      <td>23</td>\n",
       "      <td>ALB</td>\n",
       "    </tr>\n",
       "    <tr>\n",
       "      <th>2</th>\n",
       "      <td>Algeria</td>\n",
       "      <td>7.129844</td>\n",
       "      <td>35</td>\n",
       "      <td>DZA</td>\n",
       "    </tr>\n",
       "    <tr>\n",
       "      <th>3</th>\n",
       "      <td>Angola</td>\n",
       "      <td>5.291005</td>\n",
       "      <td>47</td>\n",
       "      <td>AGO</td>\n",
       "    </tr>\n",
       "    <tr>\n",
       "      <th>4</th>\n",
       "      <td>Argentina</td>\n",
       "      <td>2.283753</td>\n",
       "      <td>59</td>\n",
       "      <td>ARG</td>\n",
       "    </tr>\n",
       "  </tbody>\n",
       "</table>\n",
       "</div>"
      ],
      "text/plain": [
       "       country  deaths/confirmed perc  code iso_alpha\n",
       "0  Afghanistan               2.096265    11       AFG\n",
       "1      Albania               2.198339    23       ALB\n",
       "2      Algeria               7.129844    35       DZA\n",
       "3       Angola               5.291005    47       AGO\n",
       "4    Argentina               2.283753    59       ARG"
      ]
     },
     "execution_count": 28,
     "metadata": {},
     "output_type": "execute_result"
    }
   ],
   "source": [
    "df_deaths_confirmed_perc_tidy.head(5)"
   ]
  },
  {
   "cell_type": "markdown",
   "metadata": {},
   "source": [
    "We can plot a world map of the death/confirmed percentages. Some might seem very high, because of a very small number of deaths and confirmed cases. Also have a look at https://covidlive.co.uk/ which has a live updated map for UK cases."
   ]
  },
  {
   "cell_type": "code",
   "execution_count": 31,
   "metadata": {
    "ExecuteTime": {
     "end_time": "2020-06-24T13:01:48.122265Z",
     "start_time": "2020-06-24T13:01:48.067266Z"
    }
   },
   "outputs": [
    {
     "ename": "ValueError",
     "evalue": "\nThe orca executable is required to export figures as static images,\nbut it could not be found on the system path.\n\nSearched for executable '/home/tcapyuser/anaconda3/envs/py36class/bin/orca' on the following path:\n    C:\\Anaconda3\\envs\\py36class\n    C:\\Anaconda3\\envs\\py36class\\Library\\mingw-w64\\bin\n    C:\\Anaconda3\\envs\\py36class\\Library\\usr\\bin\n    C:\\Anaconda3\\envs\\py36class\\Library\\bin\n    C:\\Anaconda3\\envs\\py36class\\Scripts\n    C:\\Program Files\\Microsoft MPI\\Bin\\\n    C:\\WINDOWS\\system32\n    C:\\WINDOWS\n    C:\\WINDOWS\\System32\\Wbem\n    C:\\WINDOWS\\System32\\WindowsPowerShell\\v1.0\\\n    C:\\WINDOWS\\System32\\OpenSSH\\\n    C:\\Program Files (x86)\\Intel\\Intel(R) Management Engine Components\\DAL\n    C:\\Program Files\\Intel\\Intel(R) Management Engine Components\\DAL\n    C:\\Program Files\\Microsoft VS Code\\bin\n    C:\\Program Files\\Git\\cmd\n    C:\\Program Files\\dotnet\\\n    C:\\Program Files\\Microsoft SQL Server\\130\\Tools\\Binn\\\n    C:\\Program Files\\Microsoft SQL Server\\Client SDK\\ODBC\\170\\Tools\\Binn\\\n    C:\\Program Files (x86)\\Microsoft SQL Server\\150\\Tools\\Binn\\\n    C:\\Program Files\\Microsoft SQL Server\\150\\Tools\\Binn\\\n    C:\\Program Files (x86)\\Microsoft SQL Server\\150\\DTS\\Binn\\\n    C:\\Program Files\\Microsoft SQL Server\\150\\DTS\\Binn\\\n    C:\\Program Files\\MiKTeX 2.9\\miktex\\bin\\x64\\\n    C:\\Program Files\\PuTTY\\\n    C:\\Program Files\\GTK3-Runtime Win64\\bin\n    C:\\Program Files\\wkhtmltopdf\\bin\n    C:\\Program Files\\Pandoc\\\n    C:\\Program Files\\Java\\jdk1.8.0_251\\bin\n    \n    C:\\Program Files\\Docker\\Docker\\resources\\bin\n    C:\\ProgramData\\DockerDesktop\\version-bin\n    C:\\Program Files\\MySQL\\MySQL Shell 8.0\\bin\\\n    C:\\Users\\saeed\\AppData\\Local\\Microsoft\\WindowsApps\n    C:\\blp\\DAPI\n    C:\\blp\\DAPI\\DDE\n    \n    C:\\Users\\saeed\\DOCUME~1\\MobaXterm\\slash\\bin\n\nIf you haven't installed orca yet, you can do so using conda as follows:\n\n    $ conda install -c plotly plotly-orca\n\nAlternatively, see other installation methods in the orca project README at\nhttps://github.com/plotly/orca\n\nAfter installation is complete, no further configuration should be needed.\n\nIf you have installed orca, then for some reason plotly.py was unable to\nlocate it. In this case, set the `plotly.io.orca.config.executable`\nproperty to the full path of your orca executable. For example:\n\n    >>> plotly.io.orca.config.executable = '/path/to/orca'\n\nAfter updating this executable property, try the export operation again.\nIf it is successful then you may want to save this configuration so that it\nwill be applied automatically in future sessions. You can do this as follows:\n\n    >>> plotly.io.orca.config.save()\n\nIf you're still having trouble, feel free to ask for help on the forums at\nhttps://community.plot.ly/c/api/python\n",
     "output_type": "error",
     "traceback": [
      "\u001b[1;31m---------------------------------------------------------------------------\u001b[0m",
      "\u001b[1;31mValueError\u001b[0m                                Traceback (most recent call last)",
      "\u001b[1;32m<ipython-input-31-12fe61d88ac1>\u001b[0m in \u001b[0;36m<module>\u001b[1;34m\u001b[0m\n\u001b[0;32m     10\u001b[0m                     color_continuous_scale=px.colors.sequential.Plasma)\n\u001b[0;32m     11\u001b[0m \u001b[1;33m\u001b[0m\u001b[0m\n\u001b[1;32m---> 12\u001b[1;33m \u001b[0mfig\u001b[0m\u001b[1;33m.\u001b[0m\u001b[0mshow\u001b[0m\u001b[1;33m(\u001b[0m\u001b[1;33m)\u001b[0m\u001b[1;33m\u001b[0m\u001b[1;33m\u001b[0m\u001b[0m\n\u001b[0m",
      "\u001b[1;32mC:\\Anaconda3\\envs\\py36class\\lib\\site-packages\\plotly\\basedatatypes.py\u001b[0m in \u001b[0;36mshow\u001b[1;34m(self, *args, **kwargs)\u001b[0m\n\u001b[0;32m   2853\u001b[0m         \u001b[1;32mimport\u001b[0m \u001b[0mplotly\u001b[0m\u001b[1;33m.\u001b[0m\u001b[0mio\u001b[0m \u001b[1;32mas\u001b[0m \u001b[0mpio\u001b[0m\u001b[1;33m\u001b[0m\u001b[1;33m\u001b[0m\u001b[0m\n\u001b[0;32m   2854\u001b[0m \u001b[1;33m\u001b[0m\u001b[0m\n\u001b[1;32m-> 2855\u001b[1;33m         \u001b[1;32mreturn\u001b[0m \u001b[0mpio\u001b[0m\u001b[1;33m.\u001b[0m\u001b[0mshow\u001b[0m\u001b[1;33m(\u001b[0m\u001b[0mself\u001b[0m\u001b[1;33m,\u001b[0m \u001b[1;33m*\u001b[0m\u001b[0margs\u001b[0m\u001b[1;33m,\u001b[0m \u001b[1;33m**\u001b[0m\u001b[0mkwargs\u001b[0m\u001b[1;33m)\u001b[0m\u001b[1;33m\u001b[0m\u001b[1;33m\u001b[0m\u001b[0m\n\u001b[0m\u001b[0;32m   2856\u001b[0m \u001b[1;33m\u001b[0m\u001b[0m\n\u001b[0;32m   2857\u001b[0m     \u001b[1;32mdef\u001b[0m \u001b[0mto_json\u001b[0m\u001b[1;33m(\u001b[0m\u001b[0mself\u001b[0m\u001b[1;33m,\u001b[0m \u001b[1;33m*\u001b[0m\u001b[0margs\u001b[0m\u001b[1;33m,\u001b[0m \u001b[1;33m**\u001b[0m\u001b[0mkwargs\u001b[0m\u001b[1;33m)\u001b[0m\u001b[1;33m:\u001b[0m\u001b[1;33m\u001b[0m\u001b[1;33m\u001b[0m\u001b[0m\n",
      "\u001b[1;32mC:\\Anaconda3\\envs\\py36class\\lib\\site-packages\\plotly\\io\\_renderers.py\u001b[0m in \u001b[0;36mshow\u001b[1;34m(fig, renderer, validate, **kwargs)\u001b[0m\n\u001b[0;32m    375\u001b[0m \u001b[1;33m\u001b[0m\u001b[0m\n\u001b[0;32m    376\u001b[0m     \u001b[1;31m# Mimetype renderers\u001b[0m\u001b[1;33m\u001b[0m\u001b[1;33m\u001b[0m\u001b[1;33m\u001b[0m\u001b[0m\n\u001b[1;32m--> 377\u001b[1;33m     \u001b[0mbundle\u001b[0m \u001b[1;33m=\u001b[0m \u001b[0mrenderers\u001b[0m\u001b[1;33m.\u001b[0m\u001b[0m_build_mime_bundle\u001b[0m\u001b[1;33m(\u001b[0m\u001b[0mfig_dict\u001b[0m\u001b[1;33m,\u001b[0m \u001b[0mrenderers_string\u001b[0m\u001b[1;33m=\u001b[0m\u001b[0mrenderer\u001b[0m\u001b[1;33m,\u001b[0m \u001b[1;33m**\u001b[0m\u001b[0mkwargs\u001b[0m\u001b[1;33m)\u001b[0m\u001b[1;33m\u001b[0m\u001b[1;33m\u001b[0m\u001b[0m\n\u001b[0m\u001b[0;32m    378\u001b[0m     \u001b[1;32mif\u001b[0m \u001b[0mbundle\u001b[0m\u001b[1;33m:\u001b[0m\u001b[1;33m\u001b[0m\u001b[1;33m\u001b[0m\u001b[0m\n\u001b[0;32m    379\u001b[0m         \u001b[1;32mif\u001b[0m \u001b[1;32mnot\u001b[0m \u001b[0mipython_display\u001b[0m\u001b[1;33m:\u001b[0m\u001b[1;33m\u001b[0m\u001b[1;33m\u001b[0m\u001b[0m\n",
      "\u001b[1;32mC:\\Anaconda3\\envs\\py36class\\lib\\site-packages\\plotly\\io\\_renderers.py\u001b[0m in \u001b[0;36m_build_mime_bundle\u001b[1;34m(self, fig_dict, renderers_string, **kwargs)\u001b[0m\n\u001b[0;32m    284\u001b[0m         \u001b[1;32melse\u001b[0m\u001b[1;33m:\u001b[0m\u001b[1;33m\u001b[0m\u001b[1;33m\u001b[0m\u001b[0m\n\u001b[0;32m    285\u001b[0m             \u001b[1;31m# Activate any pending default renderers\u001b[0m\u001b[1;33m\u001b[0m\u001b[1;33m\u001b[0m\u001b[1;33m\u001b[0m\u001b[0m\n\u001b[1;32m--> 286\u001b[1;33m             \u001b[0mself\u001b[0m\u001b[1;33m.\u001b[0m\u001b[0m_activate_pending_renderers\u001b[0m\u001b[1;33m(\u001b[0m\u001b[0mcls\u001b[0m\u001b[1;33m=\u001b[0m\u001b[0mMimetypeRenderer\u001b[0m\u001b[1;33m)\u001b[0m\u001b[1;33m\u001b[0m\u001b[1;33m\u001b[0m\u001b[0m\n\u001b[0m\u001b[0;32m    287\u001b[0m             \u001b[0mrenderers_list\u001b[0m \u001b[1;33m=\u001b[0m \u001b[0mself\u001b[0m\u001b[1;33m.\u001b[0m\u001b[0m_default_renderers\u001b[0m\u001b[1;33m\u001b[0m\u001b[1;33m\u001b[0m\u001b[0m\n\u001b[0;32m    288\u001b[0m \u001b[1;33m\u001b[0m\u001b[0m\n",
      "\u001b[1;32mC:\\Anaconda3\\envs\\py36class\\lib\\site-packages\\plotly\\io\\_renderers.py\u001b[0m in \u001b[0;36m_activate_pending_renderers\u001b[1;34m(self, cls)\u001b[0m\n\u001b[0;32m    191\u001b[0m             \u001b[1;31m# renderers take precedence\u001b[0m\u001b[1;33m\u001b[0m\u001b[1;33m\u001b[0m\u001b[1;33m\u001b[0m\u001b[0m\n\u001b[0;32m    192\u001b[0m             \u001b[0mrenderer\u001b[0m \u001b[1;33m=\u001b[0m \u001b[0mto_activate_with_cls\u001b[0m\u001b[1;33m.\u001b[0m\u001b[0mpop\u001b[0m\u001b[1;33m(\u001b[0m\u001b[1;36m0\u001b[0m\u001b[1;33m)\u001b[0m\u001b[1;33m\u001b[0m\u001b[1;33m\u001b[0m\u001b[0m\n\u001b[1;32m--> 193\u001b[1;33m             \u001b[0mrenderer\u001b[0m\u001b[1;33m.\u001b[0m\u001b[0mactivate\u001b[0m\u001b[1;33m(\u001b[0m\u001b[1;33m)\u001b[0m\u001b[1;33m\u001b[0m\u001b[1;33m\u001b[0m\u001b[0m\n\u001b[0m\u001b[0;32m    194\u001b[0m \u001b[1;33m\u001b[0m\u001b[0m\n\u001b[0;32m    195\u001b[0m         self._to_activate = [\n",
      "\u001b[1;32mC:\\Anaconda3\\envs\\py36class\\lib\\site-packages\\plotly\\io\\_base_renderers.py\u001b[0m in \u001b[0;36mactivate\u001b[1;34m(self)\u001b[0m\n\u001b[0;32m    124\u001b[0m     \u001b[1;32mdef\u001b[0m \u001b[0mactivate\u001b[0m\u001b[1;33m(\u001b[0m\u001b[0mself\u001b[0m\u001b[1;33m)\u001b[0m\u001b[1;33m:\u001b[0m\u001b[1;33m\u001b[0m\u001b[1;33m\u001b[0m\u001b[0m\n\u001b[0;32m    125\u001b[0m         \u001b[1;31m# Start up orca server to reduce the delay on first render\u001b[0m\u001b[1;33m\u001b[0m\u001b[1;33m\u001b[0m\u001b[1;33m\u001b[0m\u001b[0m\n\u001b[1;32m--> 126\u001b[1;33m         \u001b[0mensure_server\u001b[0m\u001b[1;33m(\u001b[0m\u001b[1;33m)\u001b[0m\u001b[1;33m\u001b[0m\u001b[1;33m\u001b[0m\u001b[0m\n\u001b[0m\u001b[0;32m    127\u001b[0m \u001b[1;33m\u001b[0m\u001b[0m\n\u001b[0;32m    128\u001b[0m     \u001b[1;32mdef\u001b[0m \u001b[0mto_mimebundle\u001b[0m\u001b[1;33m(\u001b[0m\u001b[0mself\u001b[0m\u001b[1;33m,\u001b[0m \u001b[0mfig_dict\u001b[0m\u001b[1;33m)\u001b[0m\u001b[1;33m:\u001b[0m\u001b[1;33m\u001b[0m\u001b[1;33m\u001b[0m\u001b[0m\n",
      "\u001b[1;32mC:\\Anaconda3\\envs\\py36class\\lib\\site-packages\\plotly\\io\\_orca.py\u001b[0m in \u001b[0;36mensure_server\u001b[1;34m()\u001b[0m\n\u001b[0;32m   1388\u001b[0m         \u001b[1;31m# Validate orca executable only if server_url is not provided\u001b[0m\u001b[1;33m\u001b[0m\u001b[1;33m\u001b[0m\u001b[1;33m\u001b[0m\u001b[0m\n\u001b[0;32m   1389\u001b[0m         \u001b[1;32mif\u001b[0m \u001b[0mstatus\u001b[0m\u001b[1;33m.\u001b[0m\u001b[0mstate\u001b[0m \u001b[1;33m==\u001b[0m \u001b[1;34m\"unvalidated\"\u001b[0m\u001b[1;33m:\u001b[0m\u001b[1;33m\u001b[0m\u001b[1;33m\u001b[0m\u001b[0m\n\u001b[1;32m-> 1390\u001b[1;33m             \u001b[0mvalidate_executable\u001b[0m\u001b[1;33m(\u001b[0m\u001b[1;33m)\u001b[0m\u001b[1;33m\u001b[0m\u001b[1;33m\u001b[0m\u001b[0m\n\u001b[0m\u001b[0;32m   1391\u001b[0m         \u001b[1;31m# Acquire lock to make sure that we keep the properties of orca_state\u001b[0m\u001b[1;33m\u001b[0m\u001b[1;33m\u001b[0m\u001b[1;33m\u001b[0m\u001b[0m\n\u001b[0;32m   1392\u001b[0m         \u001b[1;31m# consistent across threads\u001b[0m\u001b[1;33m\u001b[0m\u001b[1;33m\u001b[0m\u001b[1;33m\u001b[0m\u001b[0m\n",
      "\u001b[1;32mC:\\Anaconda3\\envs\\py36class\\lib\\site-packages\\plotly\\io\\_orca.py\u001b[0m in \u001b[0;36mvalidate_executable\u001b[1;34m()\u001b[0m\n\u001b[0;32m   1085\u001b[0m                 \u001b[0mexecutable\u001b[0m\u001b[1;33m=\u001b[0m\u001b[0mconfig\u001b[0m\u001b[1;33m.\u001b[0m\u001b[0mexecutable\u001b[0m\u001b[1;33m,\u001b[0m\u001b[1;33m\u001b[0m\u001b[1;33m\u001b[0m\u001b[0m\n\u001b[0;32m   1086\u001b[0m                 \u001b[0mformatted_path\u001b[0m\u001b[1;33m=\u001b[0m\u001b[0mformatted_path\u001b[0m\u001b[1;33m,\u001b[0m\u001b[1;33m\u001b[0m\u001b[1;33m\u001b[0m\u001b[0m\n\u001b[1;32m-> 1087\u001b[1;33m                 \u001b[0minstructions\u001b[0m\u001b[1;33m=\u001b[0m\u001b[0minstall_location_instructions\u001b[0m\u001b[1;33m,\u001b[0m\u001b[1;33m\u001b[0m\u001b[1;33m\u001b[0m\u001b[0m\n\u001b[0m\u001b[0;32m   1088\u001b[0m             )\n\u001b[0;32m   1089\u001b[0m         )\n",
      "\u001b[1;31mValueError\u001b[0m: \nThe orca executable is required to export figures as static images,\nbut it could not be found on the system path.\n\nSearched for executable '/home/tcapyuser/anaconda3/envs/py36class/bin/orca' on the following path:\n    C:\\Anaconda3\\envs\\py36class\n    C:\\Anaconda3\\envs\\py36class\\Library\\mingw-w64\\bin\n    C:\\Anaconda3\\envs\\py36class\\Library\\usr\\bin\n    C:\\Anaconda3\\envs\\py36class\\Library\\bin\n    C:\\Anaconda3\\envs\\py36class\\Scripts\n    C:\\Program Files\\Microsoft MPI\\Bin\\\n    C:\\WINDOWS\\system32\n    C:\\WINDOWS\n    C:\\WINDOWS\\System32\\Wbem\n    C:\\WINDOWS\\System32\\WindowsPowerShell\\v1.0\\\n    C:\\WINDOWS\\System32\\OpenSSH\\\n    C:\\Program Files (x86)\\Intel\\Intel(R) Management Engine Components\\DAL\n    C:\\Program Files\\Intel\\Intel(R) Management Engine Components\\DAL\n    C:\\Program Files\\Microsoft VS Code\\bin\n    C:\\Program Files\\Git\\cmd\n    C:\\Program Files\\dotnet\\\n    C:\\Program Files\\Microsoft SQL Server\\130\\Tools\\Binn\\\n    C:\\Program Files\\Microsoft SQL Server\\Client SDK\\ODBC\\170\\Tools\\Binn\\\n    C:\\Program Files (x86)\\Microsoft SQL Server\\150\\Tools\\Binn\\\n    C:\\Program Files\\Microsoft SQL Server\\150\\Tools\\Binn\\\n    C:\\Program Files (x86)\\Microsoft SQL Server\\150\\DTS\\Binn\\\n    C:\\Program Files\\Microsoft SQL Server\\150\\DTS\\Binn\\\n    C:\\Program Files\\MiKTeX 2.9\\miktex\\bin\\x64\\\n    C:\\Program Files\\PuTTY\\\n    C:\\Program Files\\GTK3-Runtime Win64\\bin\n    C:\\Program Files\\wkhtmltopdf\\bin\n    C:\\Program Files\\Pandoc\\\n    C:\\Program Files\\Java\\jdk1.8.0_251\\bin\n    \n    C:\\Program Files\\Docker\\Docker\\resources\\bin\n    C:\\ProgramData\\DockerDesktop\\version-bin\n    C:\\Program Files\\MySQL\\MySQL Shell 8.0\\bin\\\n    C:\\Users\\saeed\\AppData\\Local\\Microsoft\\WindowsApps\n    C:\\blp\\DAPI\n    C:\\blp\\DAPI\\DDE\n    \n    C:\\Users\\saeed\\DOCUME~1\\MobaXterm\\slash\\bin\n\nIf you haven't installed orca yet, you can do so using conda as follows:\n\n    $ conda install -c plotly plotly-orca\n\nAlternatively, see other installation methods in the orca project README at\nhttps://github.com/plotly/orca\n\nAfter installation is complete, no further configuration should be needed.\n\nIf you have installed orca, then for some reason plotly.py was unable to\nlocate it. In this case, set the `plotly.io.orca.config.executable`\nproperty to the full path of your orca executable. For example:\n\n    >>> plotly.io.orca.config.executable = '/path/to/orca'\n\nAfter updating this executable property, try the export operation again.\nIf it is successful then you may want to save this configuration so that it\nwill be applied automatically in future sessions. You can do this as follows:\n\n    >>> plotly.io.orca.config.save()\n\nIf you're still having trouble, feel free to ask for help on the forums at\nhttps://community.plot.ly/c/api/python\n"
     ]
    }
   ],
   "source": [
    "import plotly.io as pio\n",
    "pio.renderers.default = \"notebook\" # make plots interactive (but will disappear when reopening notebook!)\n",
    "pio.renderers.default = \"png\" # static images\n",
    "\n",
    "pio.orca.config.executable = '/home/tcapyuser/anaconda3/envs/py36class/bin/orca'\n",
    "\n",
    "fig = px.choropleth(df_deaths_confirmed_perc_tidy, locations=\"iso_alpha\",\n",
    "                    color=\"deaths/confirmed perc\", \n",
    "                    hover_name=\"country\",\n",
    "                    color_continuous_scale=px.colors.sequential.Plasma)\n",
    "\n",
    "fig.show()"
   ]
  },
  {
   "cell_type": "markdown",
   "metadata": {},
   "source": [
    "## Adjusting timelines by lags\n",
    "\n",
    "Earlier, we showed some plots of UK and Italy, where the UK was lagged by 14 days, to take into account the relative starts of the outbreaks. Can we do this in a systematic way, rather than arbitrarily trying to pick a lag. One way to do this is to reindex our data, so that the timeline is automically shifted. The [FT](https://www.ft.com/coronavirus-latest) has produced some excellent visualisations based on shifts related to:\n",
    "\n",
    "* confirmed cases are lagged by the number of days since 100th confirmed case related to the coronavirus\n",
    "* deaths are lagged by the number of days since 10th death related to the coronavirus\n",
    "\n",
    "We'll copy the same approach used by the FT, and other analysis based on this dataset. (Thanks Ewan Kirk for contributing to this!)"
   ]
  },
  {
   "cell_type": "code",
   "execution_count": null,
   "metadata": {
    "ExecuteTime": {
     "end_time": "2020-06-24T13:01:11.122235Z",
     "start_time": "2020-06-24T13:00:58.370Z"
    }
   },
   "outputs": [],
   "source": [
    "def timeline_lag(df, df_to_shift, rate): \n",
    "# Calculate based on df, but then shift in df_to_shift\n",
    "# Eg. for normalized time series makes more sense to shift based on unnormalized\n",
    "\n",
    "    df_to_shift = df_to_shift.copy()\n",
    "    \n",
    "    # Lag each column so it starts with the rate\n",
    "    for col in df.columns.values:\n",
    "        try:\n",
    "            shift = df.index.get_loc(df[df[col] > rate].index[0])\n",
    "        except IndexError:\n",
    "            shift = df_confirmed.shape[0]\n",
    "\n",
    "        df_to_shift[col] = df_to_shift[col].shift(-1*shift)\n",
    "    \n",
    "    df_to_shift['NumDays'] = range(0, df_to_shift.shape[0])\n",
    "    df_to_shift.set_index('NumDays', inplace=True)\n",
    "        \n",
    "    return df_to_shift\n",
    "\n",
    "df_confirmed_agg_lag_ft = timeline_lag(df_confirmed_agg, df_confirmed_agg, 100)\n",
    "df_deaths_agg_lag_ft = timeline_lag(df_deaths_agg, df_deaths_agg, 10)\n",
    "\n",
    "df_confirmed_oecd_normalized_lag_ft = timeline_lag(df_confirmed_agg, df_confirmed_oecd_normalized, 100)\n",
    "df_deaths_oecd_normalized_lag_ft = timeline_lag(df_deaths_agg, df_deaths_oecd_normalized, 10)"
   ]
  },
  {
   "cell_type": "markdown",
   "metadata": {},
   "source": [
    "Let's now plot the lagged time series by days since 100th confirmed case for a few countries."
   ]
  },
  {
   "cell_type": "code",
   "execution_count": null,
   "metadata": {
    "ExecuteTime": {
     "end_time": "2020-06-24T13:01:11.123234Z",
     "start_time": "2020-06-24T13:00:58.372Z"
    }
   },
   "outputs": [],
   "source": [
    "countries_to_plot = ['Italy', 'United States', 'China', 'United Kingdom', 'Spain', 'France']\n",
    "\n",
    "ax = df_confirmed_agg_lag_ft[[x + ' confirmed' for x in countries_to_plot]].plot()\n",
    "ax.set_ylabel(\"Confirmed cases\");\n",
    "ax.set_xlabel(\"Days since 100th confirmed case\");"
   ]
  },
  {
   "cell_type": "markdown",
   "metadata": {},
   "source": [
    "To do a log scale, we just need to add one line"
   ]
  },
  {
   "cell_type": "code",
   "execution_count": null,
   "metadata": {
    "ExecuteTime": {
     "end_time": "2020-06-24T13:01:11.124234Z",
     "start_time": "2020-06-24T13:00:58.373Z"
    }
   },
   "outputs": [],
   "source": [
    "countries_to_plot = ['Italy', 'United States', 'China', 'United Kingdom', 'Spain', 'France']\n",
    "\n",
    "ax = df_confirmed_agg_lag_ft[[x + ' confirmed' for x in countries_to_plot]].plot()\n",
    "ax.set_yscale('log')\n",
    "ax.set_ylabel(\"Confirmed cases (log scale)\");\n",
    "ax.set_xlabel(\"Days since 100th confirmed case\");"
   ]
  },
  {
   "cell_type": "markdown",
   "metadata": {},
   "source": [
    "We can also plot by confirmed cases/population."
   ]
  },
  {
   "cell_type": "code",
   "execution_count": null,
   "metadata": {
    "ExecuteTime": {
     "end_time": "2020-06-24T13:01:11.124234Z",
     "start_time": "2020-06-24T13:00:58.375Z"
    }
   },
   "outputs": [],
   "source": [
    "countries_to_plot = ['Italy', 'United States', 'China', 'United Kingdom', 'Spain', 'France']\n",
    "\n",
    "ax = df_confirmed_oecd_normalized_lag_ft[[x + ' confirmed' for x in countries_to_plot]].plot()\n",
    "ax.set_ylabel(\"Confirmed cases/population (millions)\");\n",
    "ax.set_xlabel(\"Days since 100th case\");"
   ]
  },
  {
   "cell_type": "markdown",
   "metadata": {},
   "source": [
    "## Interactive plots"
   ]
  },
  {
   "cell_type": "markdown",
   "metadata": {},
   "source": [
    "We have created several DataFrame earlier, which should still be in memory, that are described below.\n",
    "\n",
    "*  df_confirmed_agg - aggregated and rotated confirmed cases data\n",
    "*  df_deaths_agg - aggregated and rotated deaths data\n",
    "*  df_confirmed_oecd_normalized - normalised (by pop) confirmed cases data\n",
    "*  df_deaths_oecd_normalized - normalised (by pop) deaths data"
   ]
  },
  {
   "cell_type": "markdown",
   "metadata": {
    "ExecuteTime": {
     "end_time": "2020-03-28T15:12:59.725956Z",
     "start_time": "2020-03-28T15:12:59.704443Z"
    }
   },
   "source": [
    "We need to remove the `confirmed` and `deaths` labels from the columns to make them easier to plot interactively."
   ]
  },
  {
   "cell_type": "code",
   "execution_count": null,
   "metadata": {
    "ExecuteTime": {
     "end_time": "2020-06-24T13:01:11.125234Z",
     "start_time": "2020-06-24T13:00:58.377Z"
    }
   },
   "outputs": [],
   "source": [
    "def remove_label(df, label):\n",
    "    df = df.copy()\n",
    "    df.columns = [x.replace(' ' + label, '') for x in df.columns]\n",
    "    \n",
    "    return df\n",
    "\n",
    "df_confirmed_agg_unlab = remove_label(df_confirmed_agg, 'confirmed')\n",
    "df_deaths_agg_unlab = remove_label(df_deaths_agg, 'deaths')\n",
    "df_confirmed_oecd_normalized_unlab = remove_label(df_confirmed_oecd_normalized, 'confirmed')\n",
    "df_deaths_oecd_normalized_unlab = remove_label(df_deaths_oecd_normalized, 'deaths')"
   ]
  },
  {
   "cell_type": "code",
   "execution_count": null,
   "metadata": {
    "ExecuteTime": {
     "end_time": "2020-06-24T13:01:11.126234Z",
     "start_time": "2020-06-24T13:00:58.378Z"
    }
   },
   "outputs": [],
   "source": [
    "df_deaths_oecd_normalized_unlab.columns"
   ]
  },
  {
   "cell_type": "markdown",
   "metadata": {},
   "source": [
    "In our earlier examples, we created static charts using Matplotlib. However, what if you want to make them interactive, so users can select the countries to examine? We can do that using ipywidgets, which allow us to create interactive sliders, radio buttons etc. in a Jupyter Notebook.\n",
    "\n",
    "Thanks for Ewan Kirk for providing the code below for using ipywidgets (note, the widgets will only show up if you run the Jupyter notebook live). Note, that given we don't have population data for every country, the normalized data won't show up for every country."
   ]
  },
  {
   "cell_type": "code",
   "execution_count": null,
   "metadata": {
    "ExecuteTime": {
     "end_time": "2020-06-24T13:01:11.127235Z",
     "start_time": "2020-06-24T13:00:58.380Z"
    }
   },
   "outputs": [],
   "source": [
    "import ipywidgets\n",
    "import IPython\n",
    "\n",
    "def display_cv_graph():\n",
    "    ''' This is the function which does it all. I find using closures *very* helpful\n",
    "        in Jupyter notebook.  Closures for functions and data help to stop the name space\n",
    "        getting overwhelmed with junk and requiring cells to be executed in particular orders\n",
    "        I also try to keep (almost) every variable outside the closures as a very small set\n",
    "        of basic data variables.  And of course using UPPERCASE for defined constants\n",
    "    '''\n",
    "    def observer(values):\n",
    "        # Clear the output.  This causes the graph to flash annoyingly.  There's a way to fix this but\n",
    "        # it is pretty sophisticated so don't worry about it\n",
    "        IPython.display.clear_output()\n",
    "        \n",
    "        # Display the controls\n",
    "        IPython.display.display(controls)\n",
    "        \n",
    "        # Work out what to do\n",
    "        do_confirmed = data_set.value is 'Confirmed'\n",
    "        do_normalized = normalized.value is 'Yes'\n",
    "        do_shifted = shifted.value is 'Yes'\n",
    "        shift_limit = confirmed_shift.value if do_confirmed else deaths_shift.value\n",
    "        \n",
    "        if do_normalized:\n",
    "            raw = df_confirmed_oecd_normalized_unlab if do_confirmed else df_deaths_oecd_normalized_unlab\n",
    "        else:\n",
    "            raw = df_confirmed_agg_unlab if do_confirmed else df_deaths_agg_unlab\n",
    "            \n",
    "        original_raw = df_confirmed_agg_unlab if do_confirmed else df_deaths_agg_unlab\n",
    "            \n",
    "        # Make a copy of the raw data frame and shift it if necessary\n",
    "        df = raw.copy()\n",
    "        \n",
    "        # Do shift based on unnormalized data (otherwise units don't make sense)\n",
    "        if do_shifted:\n",
    "            for col in original_raw.columns.values:\n",
    "                try:\n",
    "                    shift = original_raw.index.get_loc(original_raw[original_raw[col] > shift_limit].index[0])\n",
    "                except IndexError:\n",
    "                    shift = original_raw.shape[0]\n",
    "                    \n",
    "                df[col] = raw[col].shift(-1 * shift)\n",
    "                \n",
    "            df['NumDays'] = range(0, df.shape[0])\n",
    "            df.set_index('NumDays', inplace=True)\n",
    "        \n",
    "        if do_normalized:\n",
    "            normalized_label = ' normalized by pop'\n",
    "        else:\n",
    "            normalized_label = ''\n",
    "            \n",
    "        # Setup the plot\n",
    "        ax = df[list(countries.value)].plot(figsize=FIGSIZE)\n",
    "        ax.set_ylabel(data_set.value + normalized_label)\n",
    "        ax.set_yscale(log_lin.value.lower())\n",
    "        if do_shifted:\n",
    "            ax.set_xlabel(\"Number of days since {} {}\".format(shift_limit, data_set.value))\n",
    "        # and we are done so this function just waits for the next change\n",
    "    \n",
    "    # Construct controls\n",
    "    log_lin = ipywidgets.RadioButtons(options=['linear', 'log'], description='Scale')\n",
    "    countries = ipywidgets.SelectMultiple(options=df_confirmed_agg_unlab.columns.values,\n",
    "                                          value=COUNTRIES, # Use the default countries\n",
    "                                          rows=10,\n",
    "                                          description='Countries')\n",
    "    deaths_shift = ipywidgets.IntSlider(value=10, min=0, max=500, step=10, description='Deaths',\n",
    "                                         continuous_update=False, orientation='vertical',\n",
    "                                         readout=True, readout_format='d')\n",
    "    confirmed_shift = ipywidgets.IntSlider(value=100, min=0, max=20000, step=100, description='Confirmed',\n",
    "                                         continuous_update=False, orientation='vertical',\n",
    "                                         readout=True, readout_format='d')\n",
    "    data_set = ipywidgets.RadioButtons(options=['Confirmed', 'Deaths'],\n",
    "                                      description='Data Set')\n",
    "    shifted = ipywidgets.RadioButtons(options=['No', 'Yes'],\n",
    "                                      description='Shifted')\n",
    "    normalized = ipywidgets.RadioButtons(options=['No', 'Yes'],\n",
    "                                      description='Normalized')\n",
    "    controls = ipywidgets.HBox([countries, \n",
    "                                ipywidgets.VBox([data_set,\n",
    "                                                 shifted,\n",
    "                                                 normalized]),\n",
    "                                log_lin,\n",
    "                                deaths_shift,\n",
    "                                confirmed_shift])\n",
    "    \n",
    "    # Make sure they're 'observed' for changes\n",
    "    for widget in [data_set, shifted, log_lin, normalized, countries, deaths_shift, confirmed_shift]:\n",
    "        widget.observe(observer, names='value')\n",
    "        \n",
    "    # Call the observer function to kick it all off\n",
    "    observer(None)"
   ]
  },
  {
   "cell_type": "markdown",
   "metadata": {},
   "source": [
    "Let's kick off the interactive widget and plot. Note, that we can change the default list of countries. We only have normalized data for those countries in the OECD (given our database for population data is only for OECD countries)."
   ]
  },
  {
   "cell_type": "code",
   "execution_count": null,
   "metadata": {
    "ExecuteTime": {
     "end_time": "2020-06-24T13:01:11.128234Z",
     "start_time": "2020-06-24T13:00:58.382Z"
    }
   },
   "outputs": [],
   "source": [
    "# Pick a good fig size\n",
    "FIGSIZE=(16, 10)\n",
    "\n",
    "COUNTRIES = ['United Kingdom', 'Italy', 'Spain', 'Germany', 'Switzerland', 'United States', 'China']\n",
    "\n",
    "display_cv_graph()"
   ]
  },
  {
   "cell_type": "markdown",
   "metadata": {},
   "source": [
    "# Change log\n",
    "\n",
    "* 23 Jun 2020\n",
    "    * Added extra countries\n",
    "* 12 Apr 2020\n",
    "    * Added new confirmed/population plot\n",
    "    * Various bug/label fixes\n",
    "    * Updated data\n",
    "* 28 Mar 2020\n",
    "    * Added ipywidgets section\n",
    "* 25 Mar 2020 \n",
    "    * Updated to use new dataset location from https://github.com/CSSEGISandData/COVID-19/\n",
    "    * Improved ISO country code joining\n",
    "    * Added section on adjusting timelines\n",
    "* 12 Mar 2020\n",
    "    * First upload of coronavirus notebook"
   ]
  }
 ],
 "metadata": {
  "kernelspec": {
   "display_name": "Python 3",
   "language": "python",
   "name": "python3"
  },
  "language_info": {
   "codemirror_mode": {
    "name": "ipython",
    "version": 3
   },
   "file_extension": ".py",
   "mimetype": "text/x-python",
   "name": "python",
   "nbconvert_exporter": "python",
   "pygments_lexer": "ipython3",
   "version": "3.6.10"
  },
  "toc": {
   "base_numbering": 1,
   "nav_menu": {},
   "number_sections": true,
   "sideBar": true,
   "skip_h1_title": false,
   "title_cell": "Table of Contents",
   "title_sidebar": "Contents",
   "toc_cell": false,
   "toc_position": {},
   "toc_section_display": true,
   "toc_window_display": false
  }
 },
 "nbformat": 4,
 "nbformat_minor": 2
}
